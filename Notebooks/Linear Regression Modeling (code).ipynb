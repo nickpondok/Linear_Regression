{
 "cells": [
  {
   "cell_type": "code",
   "execution_count": 1,
   "metadata": {},
   "outputs": [],
   "source": [
    "import statistics as st\n",
    "import pandas as pd\n",
    "import numpy as np\n",
    "from bs4 import BeautifulSoup\n",
    "import requests\n",
    "from IPython.core.display import display, HTML\n",
    "import re\n",
    "import dateutil.parser\n",
    "from sklearn.linear_model import LinearRegression, Lasso, LassoCV, Ridge, RidgeCV\n",
    "from sklearn.metrics import mean_squared_error, r2_score\n",
    "import seaborn as sns\n",
    "import statsmodels.api as sm\n",
    "import matplotlib.pyplot as plt\n",
    "from statsmodels.stats.outliers_influence import variance_inflation_factor\n",
    "from sklearn.model_selection import train_test_split,KFold,cross_val_score\n",
    "from sklearn.preprocessing import StandardScaler, PolynomialFeatures\n",
    "from sklearn.pipeline import Pipeline"
   ]
  },
  {
   "cell_type": "code",
   "execution_count": 2,
   "metadata": {},
   "outputs": [],
   "source": [
    "\n",
    "def SSE(actuals, preds):\n",
    "    return np.sum((actuals - preds)**2)\n",
    "\n",
    "def RMSE(actuals, preds): #root mean squared error\n",
    "    return np.sqrt(np.mean((actuals - preds)**2))\n",
    "\n",
    "def MAE(actuals, preds): #mean absolute error\n",
    "    return np.mean(np.abs(actuals-preds))\n",
    "        \n",
    "    \n",
    "def vif(df_X):\n",
    "    '''\n",
    "    Calculate the VIF for each feature of df_X (a Pandas DataFrame).\n",
    "    '''\n",
    "    vif_data = [variance_inflation_factor(df_X.values, i)\n",
    "                for i in range(df_X.shape[1])]\n",
    "    \n",
    "    return pd.Series(vif_data, index=df_X.columns)"
   ]
  },
  {
   "cell_type": "code",
   "execution_count": 3,
   "metadata": {},
   "outputs": [],
   "source": [
    "#import data\n",
    "\n",
    "final_df= pd.read_csv('linreg_final_df.csv')"
   ]
  },
  {
   "cell_type": "code",
   "execution_count": 4,
   "metadata": {},
   "outputs": [
    {
     "name": "stdout",
     "output_type": "stream",
     "text": [
      "<class 'pandas.core.frame.DataFrame'>\n",
      "RangeIndex: 1283 entries, 0 to 1282\n",
      "Data columns (total 28 columns):\n",
      " #   Column          Non-Null Count  Dtype  \n",
      "---  ------          --------------  -----  \n",
      " 0   PLAYER          1283 non-null   object \n",
      " 1   GAMES           1283 non-null   int64  \n",
      " 2   MINUTES_PLAYED  1283 non-null   float64\n",
      " 3   FIELD_GOALS     1283 non-null   float64\n",
      " 4   FIELD_GOAL_PCT  1283 non-null   float64\n",
      " 5   3PT_M           1283 non-null   float64\n",
      " 6   3PT_PCT         1283 non-null   float64\n",
      " 7   2PT_M           1283 non-null   float64\n",
      " 8   2PT_PCT         1283 non-null   float64\n",
      " 9   FT_M            1283 non-null   float64\n",
      " 10  FT_PCT          1283 non-null   float64\n",
      " 11  OFF_REB         1283 non-null   float64\n",
      " 12  DEF_REB         1283 non-null   float64\n",
      " 13  TOT_REB         1283 non-null   float64\n",
      " 14  ASSISTS         1283 non-null   float64\n",
      " 15  STEALS          1283 non-null   float64\n",
      " 16  BLOCKS          1283 non-null   float64\n",
      " 17  TO              1283 non-null   float64\n",
      " 18  POINTS          1283 non-null   float64\n",
      " 19  YEAR            1283 non-null   int64  \n",
      " 20  TEAM_x          1283 non-null   object \n",
      " 21  POSITION        1283 non-null   object \n",
      " 22  EXPERIENCE      1283 non-null   float64\n",
      " 23  SALARY          1283 non-null   float64\n",
      " 24  EXPIRES         1283 non-null   float64\n",
      " 25  CONTRACT_LEN    1283 non-null   float64\n",
      " 26  CONTRACT_TOT    1283 non-null   float64\n",
      " 27  YEAR_SIGNED     1283 non-null   float64\n",
      "dtypes: float64(23), int64(2), object(3)\n",
      "memory usage: 280.8+ KB\n"
     ]
    }
   ],
   "source": [
    "final_df.info()"
   ]
  },
  {
   "cell_type": "code",
   "execution_count": 5,
   "metadata": {},
   "outputs": [
    {
     "name": "stdout",
     "output_type": "stream",
     "text": [
      "<class 'pandas.core.frame.DataFrame'>\n",
      "RangeIndex: 1283 entries, 0 to 1282\n",
      "Data columns (total 20 columns):\n",
      " #   Column        Non-Null Count  Dtype  \n",
      "---  ------        --------------  -----  \n",
      " 0   PLAYER        1283 non-null   object \n",
      " 1   FIELD_GOALS   1283 non-null   float64\n",
      " 2   3PT_M         1283 non-null   float64\n",
      " 3   3PT_PCT       1283 non-null   float64\n",
      " 4   2PT_M         1283 non-null   float64\n",
      " 5   2PT_PCT       1283 non-null   float64\n",
      " 6   FT_M          1283 non-null   float64\n",
      " 7   FT_PCT        1283 non-null   float64\n",
      " 8   OFF_REB       1283 non-null   float64\n",
      " 9   DEF_REB       1283 non-null   float64\n",
      " 10  TOT_REB       1283 non-null   float64\n",
      " 11  ASSISTS       1283 non-null   float64\n",
      " 12  STEALS        1283 non-null   float64\n",
      " 13  BLOCKS        1283 non-null   float64\n",
      " 14  TO            1283 non-null   float64\n",
      " 15  POINTS        1283 non-null   float64\n",
      " 16  POSITION      1283 non-null   object \n",
      " 17  EXPERIENCE    1283 non-null   float64\n",
      " 18  SALARY        1283 non-null   float64\n",
      " 19  CONTRACT_TOT  1283 non-null   float64\n",
      "dtypes: float64(18), object(2)\n",
      "memory usage: 200.6+ KB\n"
     ]
    }
   ],
   "source": [
    "#drop columns that will not be included in my features (non-continuous or clear colinearity)\n",
    "\n",
    "final_df_2 = final_df.drop(['GAMES','MINUTES_PLAYED','YEAR','TEAM_x','CONTRACT_LEN','EXPIRES',\n",
    "                            'YEAR_SIGNED','FIELD_GOAL_PCT'], axis = 1)\n",
    "\n",
    "final_df_2['SALARY'].median()\n",
    "#median = 6006600.0\n",
    "final_df_2['SALARY'].describe()\n",
    "final_df_2.info()"
   ]
  },
  {
   "cell_type": "code",
   "execution_count": 6,
   "metadata": {},
   "outputs": [
    {
     "name": "stdout",
     "output_type": "stream",
     "text": [
      "<class 'pandas.core.frame.DataFrame'>\n",
      "Int64Index: 1276 entries, 0 to 1282\n",
      "Data columns (total 20 columns):\n",
      " #   Column        Non-Null Count  Dtype  \n",
      "---  ------        --------------  -----  \n",
      " 0   PLAYER        1276 non-null   object \n",
      " 1   FIELD_GOALS   1276 non-null   float64\n",
      " 2   3PT_M         1276 non-null   float64\n",
      " 3   3PT_PCT       1276 non-null   float64\n",
      " 4   2PT_M         1276 non-null   float64\n",
      " 5   2PT_PCT       1276 non-null   float64\n",
      " 6   FT_M          1276 non-null   float64\n",
      " 7   FT_PCT        1276 non-null   float64\n",
      " 8   OFF_REB       1276 non-null   float64\n",
      " 9   DEF_REB       1276 non-null   float64\n",
      " 10  TOT_REB       1276 non-null   float64\n",
      " 11  ASSISTS       1276 non-null   float64\n",
      " 12  STEALS        1276 non-null   float64\n",
      " 13  BLOCKS        1276 non-null   float64\n",
      " 14  TO            1276 non-null   float64\n",
      " 15  POINTS        1276 non-null   float64\n",
      " 16  POSITION      1276 non-null   object \n",
      " 17  EXPERIENCE    1276 non-null   float64\n",
      " 18  SALARY        1276 non-null   float64\n",
      " 19  CONTRACT_TOT  1276 non-null   float64\n",
      "dtypes: float64(18), object(2)\n",
      "memory usage: 249.3+ KB\n"
     ]
    }
   ],
   "source": [
    "#to get rid of outliers \n",
    "final_df_3 = final_df_2.drop(final_df_2[final_df_2[\"SALARY\"]>(14575850+18370980)].index)\n",
    "final_df_3 = final_df_3.drop(final_df_3[final_df_3[\"SALARY\"]<(2328530-18370980)].index)\n",
    "\n",
    "final_df_3.info()"
   ]
  },
  {
   "cell_type": "code",
   "execution_count": 7,
   "metadata": {},
   "outputs": [
    {
     "data": {
      "text/html": [
       "<div>\n",
       "<style scoped>\n",
       "    .dataframe tbody tr th:only-of-type {\n",
       "        vertical-align: middle;\n",
       "    }\n",
       "\n",
       "    .dataframe tbody tr th {\n",
       "        vertical-align: top;\n",
       "    }\n",
       "\n",
       "    .dataframe thead th {\n",
       "        text-align: right;\n",
       "    }\n",
       "</style>\n",
       "<table border=\"1\" class=\"dataframe\">\n",
       "  <thead>\n",
       "    <tr style=\"text-align: right;\">\n",
       "      <th></th>\n",
       "      <th>PLAYER</th>\n",
       "      <th>FIELD_GOALS</th>\n",
       "      <th>3PT_M</th>\n",
       "      <th>3PT_PCT</th>\n",
       "      <th>2PT_M</th>\n",
       "      <th>2PT_PCT</th>\n",
       "      <th>FT_M</th>\n",
       "      <th>FT_PCT</th>\n",
       "      <th>OFF_REB</th>\n",
       "      <th>DEF_REB</th>\n",
       "      <th>...</th>\n",
       "      <th>TO</th>\n",
       "      <th>POINTS</th>\n",
       "      <th>EXPERIENCE</th>\n",
       "      <th>SALARY</th>\n",
       "      <th>CONTRACT_TOT</th>\n",
       "      <th>POSITION_C</th>\n",
       "      <th>POSITION_PF</th>\n",
       "      <th>POSITION_PG</th>\n",
       "      <th>POSITION_SF</th>\n",
       "      <th>POSITION_SG</th>\n",
       "    </tr>\n",
       "  </thead>\n",
       "  <tbody>\n",
       "    <tr>\n",
       "      <th>1278</th>\n",
       "      <td>montrezl harrell</td>\n",
       "      <td>3.9</td>\n",
       "      <td>0.0</td>\n",
       "      <td>0.143</td>\n",
       "      <td>3.9</td>\n",
       "      <td>0.663</td>\n",
       "      <td>1.3</td>\n",
       "      <td>0.628</td>\n",
       "      <td>1.4</td>\n",
       "      <td>2.4</td>\n",
       "      <td>...</td>\n",
       "      <td>0.8</td>\n",
       "      <td>9.1</td>\n",
       "      <td>1.0</td>\n",
       "      <td>1045000.0</td>\n",
       "      <td>18978900.0</td>\n",
       "      <td>1</td>\n",
       "      <td>0</td>\n",
       "      <td>0</td>\n",
       "      <td>0</td>\n",
       "      <td>0</td>\n",
       "    </tr>\n",
       "    <tr>\n",
       "      <th>1279</th>\n",
       "      <td>montrezl harrell</td>\n",
       "      <td>3.9</td>\n",
       "      <td>0.0</td>\n",
       "      <td>0.143</td>\n",
       "      <td>3.9</td>\n",
       "      <td>0.663</td>\n",
       "      <td>1.3</td>\n",
       "      <td>0.628</td>\n",
       "      <td>1.4</td>\n",
       "      <td>2.4</td>\n",
       "      <td>...</td>\n",
       "      <td>0.8</td>\n",
       "      <td>9.1</td>\n",
       "      <td>1.0</td>\n",
       "      <td>1045000.0</td>\n",
       "      <td>18978900.0</td>\n",
       "      <td>1</td>\n",
       "      <td>0</td>\n",
       "      <td>0</td>\n",
       "      <td>0</td>\n",
       "      <td>0</td>\n",
       "    </tr>\n",
       "    <tr>\n",
       "      <th>1280</th>\n",
       "      <td>montrezl harrell</td>\n",
       "      <td>3.9</td>\n",
       "      <td>0.0</td>\n",
       "      <td>0.143</td>\n",
       "      <td>3.9</td>\n",
       "      <td>0.663</td>\n",
       "      <td>1.3</td>\n",
       "      <td>0.628</td>\n",
       "      <td>1.4</td>\n",
       "      <td>2.4</td>\n",
       "      <td>...</td>\n",
       "      <td>0.8</td>\n",
       "      <td>9.1</td>\n",
       "      <td>1.0</td>\n",
       "      <td>1045000.0</td>\n",
       "      <td>18978900.0</td>\n",
       "      <td>1</td>\n",
       "      <td>0</td>\n",
       "      <td>0</td>\n",
       "      <td>0</td>\n",
       "      <td>0</td>\n",
       "    </tr>\n",
       "    <tr>\n",
       "      <th>1281</th>\n",
       "      <td>montrezl harrell</td>\n",
       "      <td>3.9</td>\n",
       "      <td>0.0</td>\n",
       "      <td>0.143</td>\n",
       "      <td>3.9</td>\n",
       "      <td>0.663</td>\n",
       "      <td>1.3</td>\n",
       "      <td>0.628</td>\n",
       "      <td>1.4</td>\n",
       "      <td>2.4</td>\n",
       "      <td>...</td>\n",
       "      <td>0.8</td>\n",
       "      <td>9.1</td>\n",
       "      <td>1.0</td>\n",
       "      <td>1045000.0</td>\n",
       "      <td>18978900.0</td>\n",
       "      <td>1</td>\n",
       "      <td>0</td>\n",
       "      <td>0</td>\n",
       "      <td>0</td>\n",
       "      <td>0</td>\n",
       "    </tr>\n",
       "    <tr>\n",
       "      <th>1282</th>\n",
       "      <td>montrezl harrell</td>\n",
       "      <td>3.9</td>\n",
       "      <td>0.0</td>\n",
       "      <td>0.143</td>\n",
       "      <td>3.9</td>\n",
       "      <td>0.663</td>\n",
       "      <td>1.3</td>\n",
       "      <td>0.628</td>\n",
       "      <td>1.4</td>\n",
       "      <td>2.4</td>\n",
       "      <td>...</td>\n",
       "      <td>0.8</td>\n",
       "      <td>9.1</td>\n",
       "      <td>1.0</td>\n",
       "      <td>1045000.0</td>\n",
       "      <td>18978900.0</td>\n",
       "      <td>1</td>\n",
       "      <td>0</td>\n",
       "      <td>0</td>\n",
       "      <td>0</td>\n",
       "      <td>0</td>\n",
       "    </tr>\n",
       "  </tbody>\n",
       "</table>\n",
       "<p>5 rows × 24 columns</p>\n",
       "</div>"
      ],
      "text/plain": [
       "                PLAYER  FIELD_GOALS  3PT_M  3PT_PCT  2PT_M  2PT_PCT  FT_M  \\\n",
       "1278  montrezl harrell          3.9    0.0    0.143    3.9    0.663   1.3   \n",
       "1279  montrezl harrell          3.9    0.0    0.143    3.9    0.663   1.3   \n",
       "1280  montrezl harrell          3.9    0.0    0.143    3.9    0.663   1.3   \n",
       "1281  montrezl harrell          3.9    0.0    0.143    3.9    0.663   1.3   \n",
       "1282  montrezl harrell          3.9    0.0    0.143    3.9    0.663   1.3   \n",
       "\n",
       "      FT_PCT  OFF_REB  DEF_REB  ...   TO  POINTS  EXPERIENCE     SALARY  \\\n",
       "1278   0.628      1.4      2.4  ...  0.8     9.1         1.0  1045000.0   \n",
       "1279   0.628      1.4      2.4  ...  0.8     9.1         1.0  1045000.0   \n",
       "1280   0.628      1.4      2.4  ...  0.8     9.1         1.0  1045000.0   \n",
       "1281   0.628      1.4      2.4  ...  0.8     9.1         1.0  1045000.0   \n",
       "1282   0.628      1.4      2.4  ...  0.8     9.1         1.0  1045000.0   \n",
       "\n",
       "      CONTRACT_TOT  POSITION_C  POSITION_PF  POSITION_PG  POSITION_SF  \\\n",
       "1278    18978900.0           1            0            0            0   \n",
       "1279    18978900.0           1            0            0            0   \n",
       "1280    18978900.0           1            0            0            0   \n",
       "1281    18978900.0           1            0            0            0   \n",
       "1282    18978900.0           1            0            0            0   \n",
       "\n",
       "      POSITION_SG  \n",
       "1278            0  \n",
       "1279            0  \n",
       "1280            0  \n",
       "1281            0  \n",
       "1282            0  \n",
       "\n",
       "[5 rows x 24 columns]"
      ]
     },
     "execution_count": 7,
     "metadata": {},
     "output_type": "execute_result"
    }
   ],
   "source": [
    "#Creating Dummy Variable for Position\n",
    "\n",
    "final_df_3 = pd.get_dummies(final_df_2,columns=['POSITION'])\n",
    "\n",
    "final_df_3.tail()"
   ]
  },
  {
   "cell_type": "code",
   "execution_count": 8,
   "metadata": {},
   "outputs": [],
   "source": [
    "#pairplot\n",
    "\n",
    "sns.set(font_scale=2) \n",
    "sns.pairplot(final_df_3)"
   ]
  },
  {
   "cell_type": "code",
   "execution_count": null,
   "metadata": {},
   "outputs": [],
   "source": []
  },
  {
   "cell_type": "code",
   "execution_count": 9,
   "metadata": {},
   "outputs": [
    {
     "data": {
      "text/html": [
       "<div>\n",
       "<style scoped>\n",
       "    .dataframe tbody tr th:only-of-type {\n",
       "        vertical-align: middle;\n",
       "    }\n",
       "\n",
       "    .dataframe tbody tr th {\n",
       "        vertical-align: top;\n",
       "    }\n",
       "\n",
       "    .dataframe thead th {\n",
       "        text-align: right;\n",
       "    }\n",
       "</style>\n",
       "<table border=\"1\" class=\"dataframe\">\n",
       "  <thead>\n",
       "    <tr style=\"text-align: right;\">\n",
       "      <th></th>\n",
       "      <th>FIELD_GOALS</th>\n",
       "      <th>3PT_M</th>\n",
       "      <th>3PT_PCT</th>\n",
       "      <th>2PT_M</th>\n",
       "      <th>2PT_PCT</th>\n",
       "      <th>FT_M</th>\n",
       "      <th>FT_PCT</th>\n",
       "      <th>OFF_REB</th>\n",
       "      <th>DEF_REB</th>\n",
       "      <th>TOT_REB</th>\n",
       "      <th>...</th>\n",
       "      <th>TO</th>\n",
       "      <th>POINTS</th>\n",
       "      <th>EXPERIENCE</th>\n",
       "      <th>SALARY</th>\n",
       "      <th>CONTRACT_TOT</th>\n",
       "      <th>POSITION_C</th>\n",
       "      <th>POSITION_PF</th>\n",
       "      <th>POSITION_PG</th>\n",
       "      <th>POSITION_SF</th>\n",
       "      <th>POSITION_SG</th>\n",
       "    </tr>\n",
       "  </thead>\n",
       "  <tbody>\n",
       "    <tr>\n",
       "      <th>FIELD_GOALS</th>\n",
       "      <td>1.000000</td>\n",
       "      <td>0.451320</td>\n",
       "      <td>0.091596</td>\n",
       "      <td>0.917210</td>\n",
       "      <td>0.108365</td>\n",
       "      <td>0.825899</td>\n",
       "      <td>0.270152</td>\n",
       "      <td>0.252873</td>\n",
       "      <td>0.537918</td>\n",
       "      <td>0.478092</td>\n",
       "      <td>...</td>\n",
       "      <td>0.773358</td>\n",
       "      <td>0.981651</td>\n",
       "      <td>0.294437</td>\n",
       "      <td>0.607900</td>\n",
       "      <td>0.622058</td>\n",
       "      <td>-0.040436</td>\n",
       "      <td>-0.041185</td>\n",
       "      <td>0.061540</td>\n",
       "      <td>-0.008853</td>\n",
       "      <td>0.037400</td>\n",
       "    </tr>\n",
       "    <tr>\n",
       "      <th>3PT_M</th>\n",
       "      <td>0.451320</td>\n",
       "      <td>1.000000</td>\n",
       "      <td>0.490609</td>\n",
       "      <td>0.059086</td>\n",
       "      <td>-0.274326</td>\n",
       "      <td>0.345823</td>\n",
       "      <td>0.509919</td>\n",
       "      <td>-0.455831</td>\n",
       "      <td>-0.053194</td>\n",
       "      <td>-0.192790</td>\n",
       "      <td>...</td>\n",
       "      <td>0.375328</td>\n",
       "      <td>0.546131</td>\n",
       "      <td>0.271568</td>\n",
       "      <td>0.306542</td>\n",
       "      <td>0.369260</td>\n",
       "      <td>-0.519855</td>\n",
       "      <td>-0.078466</td>\n",
       "      <td>0.165434</td>\n",
       "      <td>0.173519</td>\n",
       "      <td>0.316047</td>\n",
       "    </tr>\n",
       "    <tr>\n",
       "      <th>3PT_PCT</th>\n",
       "      <td>0.091596</td>\n",
       "      <td>0.490609</td>\n",
       "      <td>1.000000</td>\n",
       "      <td>-0.118535</td>\n",
       "      <td>-0.328734</td>\n",
       "      <td>0.023217</td>\n",
       "      <td>0.382175</td>\n",
       "      <td>-0.412334</td>\n",
       "      <td>-0.207284</td>\n",
       "      <td>-0.289790</td>\n",
       "      <td>...</td>\n",
       "      <td>0.044340</td>\n",
       "      <td>0.138131</td>\n",
       "      <td>0.130334</td>\n",
       "      <td>0.070161</td>\n",
       "      <td>0.071801</td>\n",
       "      <td>-0.532653</td>\n",
       "      <td>0.144709</td>\n",
       "      <td>0.106836</td>\n",
       "      <td>0.163697</td>\n",
       "      <td>0.158223</td>\n",
       "    </tr>\n",
       "    <tr>\n",
       "      <th>2PT_M</th>\n",
       "      <td>0.917210</td>\n",
       "      <td>0.059086</td>\n",
       "      <td>-0.118535</td>\n",
       "      <td>1.000000</td>\n",
       "      <td>0.245615</td>\n",
       "      <td>0.768692</td>\n",
       "      <td>0.074511</td>\n",
       "      <td>0.484590</td>\n",
       "      <td>0.623872</td>\n",
       "      <td>0.619082</td>\n",
       "      <td>...</td>\n",
       "      <td>0.697229</td>\n",
       "      <td>0.854278</td>\n",
       "      <td>0.207161</td>\n",
       "      <td>0.541998</td>\n",
       "      <td>0.530103</td>\n",
       "      <td>0.185378</td>\n",
       "      <td>-0.011490</td>\n",
       "      <td>-0.005282</td>\n",
       "      <td>-0.086085</td>\n",
       "      <td>-0.098206</td>\n",
       "    </tr>\n",
       "    <tr>\n",
       "      <th>2PT_PCT</th>\n",
       "      <td>0.108365</td>\n",
       "      <td>-0.274326</td>\n",
       "      <td>-0.328734</td>\n",
       "      <td>0.245615</td>\n",
       "      <td>1.000000</td>\n",
       "      <td>0.024360</td>\n",
       "      <td>-0.251083</td>\n",
       "      <td>0.466330</td>\n",
       "      <td>0.292250</td>\n",
       "      <td>0.370930</td>\n",
       "      <td>...</td>\n",
       "      <td>-0.060368</td>\n",
       "      <td>0.044376</td>\n",
       "      <td>0.067334</td>\n",
       "      <td>0.042488</td>\n",
       "      <td>0.045378</td>\n",
       "      <td>0.503349</td>\n",
       "      <td>0.024020</td>\n",
       "      <td>-0.311455</td>\n",
       "      <td>-0.092558</td>\n",
       "      <td>-0.179915</td>\n",
       "    </tr>\n",
       "    <tr>\n",
       "      <th>FT_M</th>\n",
       "      <td>0.825899</td>\n",
       "      <td>0.345823</td>\n",
       "      <td>0.023217</td>\n",
       "      <td>0.768692</td>\n",
       "      <td>0.024360</td>\n",
       "      <td>1.000000</td>\n",
       "      <td>0.299812</td>\n",
       "      <td>0.181765</td>\n",
       "      <td>0.494882</td>\n",
       "      <td>0.422496</td>\n",
       "      <td>...</td>\n",
       "      <td>0.782185</td>\n",
       "      <td>0.892397</td>\n",
       "      <td>0.272942</td>\n",
       "      <td>0.595000</td>\n",
       "      <td>0.662993</td>\n",
       "      <td>-0.043714</td>\n",
       "      <td>-0.090263</td>\n",
       "      <td>0.154264</td>\n",
       "      <td>0.020333</td>\n",
       "      <td>-0.025688</td>\n",
       "    </tr>\n",
       "    <tr>\n",
       "      <th>FT_PCT</th>\n",
       "      <td>0.270152</td>\n",
       "      <td>0.509919</td>\n",
       "      <td>0.382175</td>\n",
       "      <td>0.074511</td>\n",
       "      <td>-0.251083</td>\n",
       "      <td>0.299812</td>\n",
       "      <td>1.000000</td>\n",
       "      <td>-0.342242</td>\n",
       "      <td>-0.097669</td>\n",
       "      <td>-0.185039</td>\n",
       "      <td>...</td>\n",
       "      <td>0.156361</td>\n",
       "      <td>0.339730</td>\n",
       "      <td>0.134042</td>\n",
       "      <td>0.162847</td>\n",
       "      <td>0.238771</td>\n",
       "      <td>-0.350045</td>\n",
       "      <td>-0.038664</td>\n",
       "      <td>0.123777</td>\n",
       "      <td>0.121239</td>\n",
       "      <td>0.181268</td>\n",
       "    </tr>\n",
       "    <tr>\n",
       "      <th>OFF_REB</th>\n",
       "      <td>0.252873</td>\n",
       "      <td>-0.455831</td>\n",
       "      <td>-0.412334</td>\n",
       "      <td>0.484590</td>\n",
       "      <td>0.466330</td>\n",
       "      <td>0.181765</td>\n",
       "      <td>-0.342242</td>\n",
       "      <td>1.000000</td>\n",
       "      <td>0.718967</td>\n",
       "      <td>0.862988</td>\n",
       "      <td>...</td>\n",
       "      <td>0.175288</td>\n",
       "      <td>0.161308</td>\n",
       "      <td>0.080273</td>\n",
       "      <td>0.190524</td>\n",
       "      <td>0.014028</td>\n",
       "      <td>0.629528</td>\n",
       "      <td>0.064871</td>\n",
       "      <td>-0.275984</td>\n",
       "      <td>-0.179545</td>\n",
       "      <td>-0.308027</td>\n",
       "    </tr>\n",
       "    <tr>\n",
       "      <th>DEF_REB</th>\n",
       "      <td>0.537918</td>\n",
       "      <td>-0.053194</td>\n",
       "      <td>-0.207284</td>\n",
       "      <td>0.623872</td>\n",
       "      <td>0.292250</td>\n",
       "      <td>0.494882</td>\n",
       "      <td>-0.097669</td>\n",
       "      <td>0.718967</td>\n",
       "      <td>1.000000</td>\n",
       "      <td>0.971372</td>\n",
       "      <td>...</td>\n",
       "      <td>0.508517</td>\n",
       "      <td>0.499992</td>\n",
       "      <td>0.289539</td>\n",
       "      <td>0.477305</td>\n",
       "      <td>0.276968</td>\n",
       "      <td>0.346677</td>\n",
       "      <td>0.124600</td>\n",
       "      <td>-0.212438</td>\n",
       "      <td>-0.042329</td>\n",
       "      <td>-0.262856</td>\n",
       "    </tr>\n",
       "    <tr>\n",
       "      <th>TOT_REB</th>\n",
       "      <td>0.478092</td>\n",
       "      <td>-0.192790</td>\n",
       "      <td>-0.289790</td>\n",
       "      <td>0.619082</td>\n",
       "      <td>0.370930</td>\n",
       "      <td>0.422496</td>\n",
       "      <td>-0.185039</td>\n",
       "      <td>0.862988</td>\n",
       "      <td>0.971372</td>\n",
       "      <td>1.000000</td>\n",
       "      <td>...</td>\n",
       "      <td>0.428038</td>\n",
       "      <td>0.419415</td>\n",
       "      <td>0.237650</td>\n",
       "      <td>0.412848</td>\n",
       "      <td>0.207236</td>\n",
       "      <td>0.467082</td>\n",
       "      <td>0.111548</td>\n",
       "      <td>-0.249017</td>\n",
       "      <td>-0.091959</td>\n",
       "      <td>-0.294901</td>\n",
       "    </tr>\n",
       "    <tr>\n",
       "      <th>ASSISTS</th>\n",
       "      <td>0.553670</td>\n",
       "      <td>0.433917</td>\n",
       "      <td>0.147262</td>\n",
       "      <td>0.427187</td>\n",
       "      <td>-0.156994</td>\n",
       "      <td>0.630149</td>\n",
       "      <td>0.258870</td>\n",
       "      <td>-0.124117</td>\n",
       "      <td>0.216279</td>\n",
       "      <td>0.114753</td>\n",
       "      <td>...</td>\n",
       "      <td>0.801769</td>\n",
       "      <td>0.615795</td>\n",
       "      <td>0.303888</td>\n",
       "      <td>0.492223</td>\n",
       "      <td>0.496676</td>\n",
       "      <td>-0.251364</td>\n",
       "      <td>-0.186160</td>\n",
       "      <td>0.548865</td>\n",
       "      <td>-0.060856</td>\n",
       "      <td>0.002744</td>\n",
       "    </tr>\n",
       "    <tr>\n",
       "      <th>STEALS</th>\n",
       "      <td>0.439428</td>\n",
       "      <td>0.334788</td>\n",
       "      <td>0.107065</td>\n",
       "      <td>0.341019</td>\n",
       "      <td>-0.104239</td>\n",
       "      <td>0.436187</td>\n",
       "      <td>0.188818</td>\n",
       "      <td>0.061758</td>\n",
       "      <td>0.304430</td>\n",
       "      <td>0.242365</td>\n",
       "      <td>...</td>\n",
       "      <td>0.554882</td>\n",
       "      <td>0.469337</td>\n",
       "      <td>0.217336</td>\n",
       "      <td>0.359335</td>\n",
       "      <td>0.385794</td>\n",
       "      <td>-0.196307</td>\n",
       "      <td>-0.199705</td>\n",
       "      <td>0.212970</td>\n",
       "      <td>0.199902</td>\n",
       "      <td>0.020294</td>\n",
       "    </tr>\n",
       "    <tr>\n",
       "      <th>BLOCKS</th>\n",
       "      <td>0.242871</td>\n",
       "      <td>-0.347198</td>\n",
       "      <td>-0.374082</td>\n",
       "      <td>0.424949</td>\n",
       "      <td>0.377611</td>\n",
       "      <td>0.189204</td>\n",
       "      <td>-0.264457</td>\n",
       "      <td>0.613519</td>\n",
       "      <td>0.609865</td>\n",
       "      <td>0.652285</td>\n",
       "      <td>...</td>\n",
       "      <td>0.181534</td>\n",
       "      <td>0.171631</td>\n",
       "      <td>0.060596</td>\n",
       "      <td>0.150693</td>\n",
       "      <td>0.147001</td>\n",
       "      <td>0.544220</td>\n",
       "      <td>0.128932</td>\n",
       "      <td>-0.274381</td>\n",
       "      <td>-0.179246</td>\n",
       "      <td>-0.285301</td>\n",
       "    </tr>\n",
       "    <tr>\n",
       "      <th>TO</th>\n",
       "      <td>0.773358</td>\n",
       "      <td>0.375328</td>\n",
       "      <td>0.044340</td>\n",
       "      <td>0.697229</td>\n",
       "      <td>-0.060368</td>\n",
       "      <td>0.782185</td>\n",
       "      <td>0.156361</td>\n",
       "      <td>0.175288</td>\n",
       "      <td>0.508517</td>\n",
       "      <td>0.428038</td>\n",
       "      <td>...</td>\n",
       "      <td>1.000000</td>\n",
       "      <td>0.801752</td>\n",
       "      <td>0.305023</td>\n",
       "      <td>0.579101</td>\n",
       "      <td>0.538672</td>\n",
       "      <td>-0.082832</td>\n",
       "      <td>-0.081437</td>\n",
       "      <td>0.307084</td>\n",
       "      <td>-0.083276</td>\n",
       "      <td>-0.036279</td>\n",
       "    </tr>\n",
       "    <tr>\n",
       "      <th>POINTS</th>\n",
       "      <td>0.981651</td>\n",
       "      <td>0.546131</td>\n",
       "      <td>0.138131</td>\n",
       "      <td>0.854278</td>\n",
       "      <td>0.044376</td>\n",
       "      <td>0.892397</td>\n",
       "      <td>0.339730</td>\n",
       "      <td>0.161308</td>\n",
       "      <td>0.499992</td>\n",
       "      <td>0.419415</td>\n",
       "      <td>...</td>\n",
       "      <td>0.801752</td>\n",
       "      <td>1.000000</td>\n",
       "      <td>0.316419</td>\n",
       "      <td>0.625568</td>\n",
       "      <td>0.662291</td>\n",
       "      <td>-0.112802</td>\n",
       "      <td>-0.063678</td>\n",
       "      <td>0.107815</td>\n",
       "      <td>0.023446</td>\n",
       "      <td>0.063067</td>\n",
       "    </tr>\n",
       "    <tr>\n",
       "      <th>EXPERIENCE</th>\n",
       "      <td>0.294437</td>\n",
       "      <td>0.271568</td>\n",
       "      <td>0.130334</td>\n",
       "      <td>0.207161</td>\n",
       "      <td>0.067334</td>\n",
       "      <td>0.272942</td>\n",
       "      <td>0.134042</td>\n",
       "      <td>0.080273</td>\n",
       "      <td>0.289539</td>\n",
       "      <td>0.237650</td>\n",
       "      <td>...</td>\n",
       "      <td>0.305023</td>\n",
       "      <td>0.316419</td>\n",
       "      <td>1.000000</td>\n",
       "      <td>0.621979</td>\n",
       "      <td>-0.011553</td>\n",
       "      <td>-0.044923</td>\n",
       "      <td>0.059125</td>\n",
       "      <td>0.020131</td>\n",
       "      <td>0.061572</td>\n",
       "      <td>-0.095530</td>\n",
       "    </tr>\n",
       "    <tr>\n",
       "      <th>SALARY</th>\n",
       "      <td>0.607900</td>\n",
       "      <td>0.306542</td>\n",
       "      <td>0.070161</td>\n",
       "      <td>0.541998</td>\n",
       "      <td>0.042488</td>\n",
       "      <td>0.595000</td>\n",
       "      <td>0.162847</td>\n",
       "      <td>0.190524</td>\n",
       "      <td>0.477305</td>\n",
       "      <td>0.412848</td>\n",
       "      <td>...</td>\n",
       "      <td>0.579101</td>\n",
       "      <td>0.625568</td>\n",
       "      <td>0.621979</td>\n",
       "      <td>1.000000</td>\n",
       "      <td>0.335094</td>\n",
       "      <td>-0.000933</td>\n",
       "      <td>-0.010879</td>\n",
       "      <td>0.057037</td>\n",
       "      <td>0.017935</td>\n",
       "      <td>-0.060593</td>\n",
       "    </tr>\n",
       "    <tr>\n",
       "      <th>CONTRACT_TOT</th>\n",
       "      <td>0.622058</td>\n",
       "      <td>0.369260</td>\n",
       "      <td>0.071801</td>\n",
       "      <td>0.530103</td>\n",
       "      <td>0.045378</td>\n",
       "      <td>0.662993</td>\n",
       "      <td>0.238771</td>\n",
       "      <td>0.014028</td>\n",
       "      <td>0.276968</td>\n",
       "      <td>0.207236</td>\n",
       "      <td>...</td>\n",
       "      <td>0.538672</td>\n",
       "      <td>0.662291</td>\n",
       "      <td>-0.011553</td>\n",
       "      <td>0.335094</td>\n",
       "      <td>1.000000</td>\n",
       "      <td>-0.135147</td>\n",
       "      <td>-0.111009</td>\n",
       "      <td>0.186122</td>\n",
       "      <td>0.073581</td>\n",
       "      <td>0.011805</td>\n",
       "    </tr>\n",
       "    <tr>\n",
       "      <th>POSITION_C</th>\n",
       "      <td>-0.040436</td>\n",
       "      <td>-0.519855</td>\n",
       "      <td>-0.532653</td>\n",
       "      <td>0.185378</td>\n",
       "      <td>0.503349</td>\n",
       "      <td>-0.043714</td>\n",
       "      <td>-0.350045</td>\n",
       "      <td>0.629528</td>\n",
       "      <td>0.346677</td>\n",
       "      <td>0.467082</td>\n",
       "      <td>...</td>\n",
       "      <td>-0.082832</td>\n",
       "      <td>-0.112802</td>\n",
       "      <td>-0.044923</td>\n",
       "      <td>-0.000933</td>\n",
       "      <td>-0.135147</td>\n",
       "      <td>1.000000</td>\n",
       "      <td>-0.295192</td>\n",
       "      <td>-0.251176</td>\n",
       "      <td>-0.266258</td>\n",
       "      <td>-0.264215</td>\n",
       "    </tr>\n",
       "    <tr>\n",
       "      <th>POSITION_PF</th>\n",
       "      <td>-0.041185</td>\n",
       "      <td>-0.078466</td>\n",
       "      <td>0.144709</td>\n",
       "      <td>-0.011490</td>\n",
       "      <td>0.024020</td>\n",
       "      <td>-0.090263</td>\n",
       "      <td>-0.038664</td>\n",
       "      <td>0.064871</td>\n",
       "      <td>0.124600</td>\n",
       "      <td>0.111548</td>\n",
       "      <td>...</td>\n",
       "      <td>-0.081437</td>\n",
       "      <td>-0.063678</td>\n",
       "      <td>0.059125</td>\n",
       "      <td>-0.010879</td>\n",
       "      <td>-0.111009</td>\n",
       "      <td>-0.295192</td>\n",
       "      <td>1.000000</td>\n",
       "      <td>-0.241895</td>\n",
       "      <td>-0.256420</td>\n",
       "      <td>-0.254453</td>\n",
       "    </tr>\n",
       "    <tr>\n",
       "      <th>POSITION_PG</th>\n",
       "      <td>0.061540</td>\n",
       "      <td>0.165434</td>\n",
       "      <td>0.106836</td>\n",
       "      <td>-0.005282</td>\n",
       "      <td>-0.311455</td>\n",
       "      <td>0.154264</td>\n",
       "      <td>0.123777</td>\n",
       "      <td>-0.275984</td>\n",
       "      <td>-0.212438</td>\n",
       "      <td>-0.249017</td>\n",
       "      <td>...</td>\n",
       "      <td>0.307084</td>\n",
       "      <td>0.107815</td>\n",
       "      <td>0.020131</td>\n",
       "      <td>0.057037</td>\n",
       "      <td>0.186122</td>\n",
       "      <td>-0.251176</td>\n",
       "      <td>-0.241895</td>\n",
       "      <td>1.000000</td>\n",
       "      <td>-0.218186</td>\n",
       "      <td>-0.216512</td>\n",
       "    </tr>\n",
       "    <tr>\n",
       "      <th>POSITION_SF</th>\n",
       "      <td>-0.008853</td>\n",
       "      <td>0.173519</td>\n",
       "      <td>0.163697</td>\n",
       "      <td>-0.086085</td>\n",
       "      <td>-0.092558</td>\n",
       "      <td>0.020333</td>\n",
       "      <td>0.121239</td>\n",
       "      <td>-0.179545</td>\n",
       "      <td>-0.042329</td>\n",
       "      <td>-0.091959</td>\n",
       "      <td>...</td>\n",
       "      <td>-0.083276</td>\n",
       "      <td>0.023446</td>\n",
       "      <td>0.061572</td>\n",
       "      <td>0.017935</td>\n",
       "      <td>0.073581</td>\n",
       "      <td>-0.266258</td>\n",
       "      <td>-0.256420</td>\n",
       "      <td>-0.218186</td>\n",
       "      <td>1.000000</td>\n",
       "      <td>-0.229512</td>\n",
       "    </tr>\n",
       "    <tr>\n",
       "      <th>POSITION_SG</th>\n",
       "      <td>0.037400</td>\n",
       "      <td>0.316047</td>\n",
       "      <td>0.158223</td>\n",
       "      <td>-0.098206</td>\n",
       "      <td>-0.179915</td>\n",
       "      <td>-0.025688</td>\n",
       "      <td>0.181268</td>\n",
       "      <td>-0.308027</td>\n",
       "      <td>-0.262856</td>\n",
       "      <td>-0.294901</td>\n",
       "      <td>...</td>\n",
       "      <td>-0.036279</td>\n",
       "      <td>0.063067</td>\n",
       "      <td>-0.095530</td>\n",
       "      <td>-0.060593</td>\n",
       "      <td>0.011805</td>\n",
       "      <td>-0.264215</td>\n",
       "      <td>-0.254453</td>\n",
       "      <td>-0.216512</td>\n",
       "      <td>-0.229512</td>\n",
       "      <td>1.000000</td>\n",
       "    </tr>\n",
       "  </tbody>\n",
       "</table>\n",
       "<p>23 rows × 23 columns</p>\n",
       "</div>"
      ],
      "text/plain": [
       "              FIELD_GOALS     3PT_M   3PT_PCT     2PT_M   2PT_PCT      FT_M  \\\n",
       "FIELD_GOALS      1.000000  0.451320  0.091596  0.917210  0.108365  0.825899   \n",
       "3PT_M            0.451320  1.000000  0.490609  0.059086 -0.274326  0.345823   \n",
       "3PT_PCT          0.091596  0.490609  1.000000 -0.118535 -0.328734  0.023217   \n",
       "2PT_M            0.917210  0.059086 -0.118535  1.000000  0.245615  0.768692   \n",
       "2PT_PCT          0.108365 -0.274326 -0.328734  0.245615  1.000000  0.024360   \n",
       "FT_M             0.825899  0.345823  0.023217  0.768692  0.024360  1.000000   \n",
       "FT_PCT           0.270152  0.509919  0.382175  0.074511 -0.251083  0.299812   \n",
       "OFF_REB          0.252873 -0.455831 -0.412334  0.484590  0.466330  0.181765   \n",
       "DEF_REB          0.537918 -0.053194 -0.207284  0.623872  0.292250  0.494882   \n",
       "TOT_REB          0.478092 -0.192790 -0.289790  0.619082  0.370930  0.422496   \n",
       "ASSISTS          0.553670  0.433917  0.147262  0.427187 -0.156994  0.630149   \n",
       "STEALS           0.439428  0.334788  0.107065  0.341019 -0.104239  0.436187   \n",
       "BLOCKS           0.242871 -0.347198 -0.374082  0.424949  0.377611  0.189204   \n",
       "TO               0.773358  0.375328  0.044340  0.697229 -0.060368  0.782185   \n",
       "POINTS           0.981651  0.546131  0.138131  0.854278  0.044376  0.892397   \n",
       "EXPERIENCE       0.294437  0.271568  0.130334  0.207161  0.067334  0.272942   \n",
       "SALARY           0.607900  0.306542  0.070161  0.541998  0.042488  0.595000   \n",
       "CONTRACT_TOT     0.622058  0.369260  0.071801  0.530103  0.045378  0.662993   \n",
       "POSITION_C      -0.040436 -0.519855 -0.532653  0.185378  0.503349 -0.043714   \n",
       "POSITION_PF     -0.041185 -0.078466  0.144709 -0.011490  0.024020 -0.090263   \n",
       "POSITION_PG      0.061540  0.165434  0.106836 -0.005282 -0.311455  0.154264   \n",
       "POSITION_SF     -0.008853  0.173519  0.163697 -0.086085 -0.092558  0.020333   \n",
       "POSITION_SG      0.037400  0.316047  0.158223 -0.098206 -0.179915 -0.025688   \n",
       "\n",
       "                FT_PCT   OFF_REB   DEF_REB   TOT_REB  ...        TO    POINTS  \\\n",
       "FIELD_GOALS   0.270152  0.252873  0.537918  0.478092  ...  0.773358  0.981651   \n",
       "3PT_M         0.509919 -0.455831 -0.053194 -0.192790  ...  0.375328  0.546131   \n",
       "3PT_PCT       0.382175 -0.412334 -0.207284 -0.289790  ...  0.044340  0.138131   \n",
       "2PT_M         0.074511  0.484590  0.623872  0.619082  ...  0.697229  0.854278   \n",
       "2PT_PCT      -0.251083  0.466330  0.292250  0.370930  ... -0.060368  0.044376   \n",
       "FT_M          0.299812  0.181765  0.494882  0.422496  ...  0.782185  0.892397   \n",
       "FT_PCT        1.000000 -0.342242 -0.097669 -0.185039  ...  0.156361  0.339730   \n",
       "OFF_REB      -0.342242  1.000000  0.718967  0.862988  ...  0.175288  0.161308   \n",
       "DEF_REB      -0.097669  0.718967  1.000000  0.971372  ...  0.508517  0.499992   \n",
       "TOT_REB      -0.185039  0.862988  0.971372  1.000000  ...  0.428038  0.419415   \n",
       "ASSISTS       0.258870 -0.124117  0.216279  0.114753  ...  0.801769  0.615795   \n",
       "STEALS        0.188818  0.061758  0.304430  0.242365  ...  0.554882  0.469337   \n",
       "BLOCKS       -0.264457  0.613519  0.609865  0.652285  ...  0.181534  0.171631   \n",
       "TO            0.156361  0.175288  0.508517  0.428038  ...  1.000000  0.801752   \n",
       "POINTS        0.339730  0.161308  0.499992  0.419415  ...  0.801752  1.000000   \n",
       "EXPERIENCE    0.134042  0.080273  0.289539  0.237650  ...  0.305023  0.316419   \n",
       "SALARY        0.162847  0.190524  0.477305  0.412848  ...  0.579101  0.625568   \n",
       "CONTRACT_TOT  0.238771  0.014028  0.276968  0.207236  ...  0.538672  0.662291   \n",
       "POSITION_C   -0.350045  0.629528  0.346677  0.467082  ... -0.082832 -0.112802   \n",
       "POSITION_PF  -0.038664  0.064871  0.124600  0.111548  ... -0.081437 -0.063678   \n",
       "POSITION_PG   0.123777 -0.275984 -0.212438 -0.249017  ...  0.307084  0.107815   \n",
       "POSITION_SF   0.121239 -0.179545 -0.042329 -0.091959  ... -0.083276  0.023446   \n",
       "POSITION_SG   0.181268 -0.308027 -0.262856 -0.294901  ... -0.036279  0.063067   \n",
       "\n",
       "              EXPERIENCE    SALARY  CONTRACT_TOT  POSITION_C  POSITION_PF  \\\n",
       "FIELD_GOALS     0.294437  0.607900      0.622058   -0.040436    -0.041185   \n",
       "3PT_M           0.271568  0.306542      0.369260   -0.519855    -0.078466   \n",
       "3PT_PCT         0.130334  0.070161      0.071801   -0.532653     0.144709   \n",
       "2PT_M           0.207161  0.541998      0.530103    0.185378    -0.011490   \n",
       "2PT_PCT         0.067334  0.042488      0.045378    0.503349     0.024020   \n",
       "FT_M            0.272942  0.595000      0.662993   -0.043714    -0.090263   \n",
       "FT_PCT          0.134042  0.162847      0.238771   -0.350045    -0.038664   \n",
       "OFF_REB         0.080273  0.190524      0.014028    0.629528     0.064871   \n",
       "DEF_REB         0.289539  0.477305      0.276968    0.346677     0.124600   \n",
       "TOT_REB         0.237650  0.412848      0.207236    0.467082     0.111548   \n",
       "ASSISTS         0.303888  0.492223      0.496676   -0.251364    -0.186160   \n",
       "STEALS          0.217336  0.359335      0.385794   -0.196307    -0.199705   \n",
       "BLOCKS          0.060596  0.150693      0.147001    0.544220     0.128932   \n",
       "TO              0.305023  0.579101      0.538672   -0.082832    -0.081437   \n",
       "POINTS          0.316419  0.625568      0.662291   -0.112802    -0.063678   \n",
       "EXPERIENCE      1.000000  0.621979     -0.011553   -0.044923     0.059125   \n",
       "SALARY          0.621979  1.000000      0.335094   -0.000933    -0.010879   \n",
       "CONTRACT_TOT   -0.011553  0.335094      1.000000   -0.135147    -0.111009   \n",
       "POSITION_C     -0.044923 -0.000933     -0.135147    1.000000    -0.295192   \n",
       "POSITION_PF     0.059125 -0.010879     -0.111009   -0.295192     1.000000   \n",
       "POSITION_PG     0.020131  0.057037      0.186122   -0.251176    -0.241895   \n",
       "POSITION_SF     0.061572  0.017935      0.073581   -0.266258    -0.256420   \n",
       "POSITION_SG    -0.095530 -0.060593      0.011805   -0.264215    -0.254453   \n",
       "\n",
       "              POSITION_PG  POSITION_SF  POSITION_SG  \n",
       "FIELD_GOALS      0.061540    -0.008853     0.037400  \n",
       "3PT_M            0.165434     0.173519     0.316047  \n",
       "3PT_PCT          0.106836     0.163697     0.158223  \n",
       "2PT_M           -0.005282    -0.086085    -0.098206  \n",
       "2PT_PCT         -0.311455    -0.092558    -0.179915  \n",
       "FT_M             0.154264     0.020333    -0.025688  \n",
       "FT_PCT           0.123777     0.121239     0.181268  \n",
       "OFF_REB         -0.275984    -0.179545    -0.308027  \n",
       "DEF_REB         -0.212438    -0.042329    -0.262856  \n",
       "TOT_REB         -0.249017    -0.091959    -0.294901  \n",
       "ASSISTS          0.548865    -0.060856     0.002744  \n",
       "STEALS           0.212970     0.199902     0.020294  \n",
       "BLOCKS          -0.274381    -0.179246    -0.285301  \n",
       "TO               0.307084    -0.083276    -0.036279  \n",
       "POINTS           0.107815     0.023446     0.063067  \n",
       "EXPERIENCE       0.020131     0.061572    -0.095530  \n",
       "SALARY           0.057037     0.017935    -0.060593  \n",
       "CONTRACT_TOT     0.186122     0.073581     0.011805  \n",
       "POSITION_C      -0.251176    -0.266258    -0.264215  \n",
       "POSITION_PF     -0.241895    -0.256420    -0.254453  \n",
       "POSITION_PG      1.000000    -0.218186    -0.216512  \n",
       "POSITION_SF     -0.218186     1.000000    -0.229512  \n",
       "POSITION_SG     -0.216512    -0.229512     1.000000  \n",
       "\n",
       "[23 rows x 23 columns]"
      ]
     },
     "execution_count": 9,
     "metadata": {},
     "output_type": "execute_result"
    }
   ],
   "source": [
    "#look at correlated features\n",
    "\n",
    "final_df_3.corr()"
   ]
  },
  {
   "cell_type": "code",
   "execution_count": 10,
   "metadata": {},
   "outputs": [],
   "source": [
    "#first list of features with all highly correlation to the target\n",
    "\n",
    "features_1 = ['2PT_M','3PT_M','FT_M','DEF_REB','OFF_REB','ASSISTS',\n",
    "       'STEALS','TO','EXPERIENCE','BLOCKS','POSITION_PG','POSITION_SG','POSITION_PF','POSITION_SF',\n",
    "           'POSITION_C','SALARY']\n",
    "\n",
    "['2PT_M','3PT_M','FT_M','DEF_REB','OFF_REB','ASSISTS',\n",
    "       'STEALS','TO','EXPERIENCE','BLOCKS','POSITION_PG','POSITION_SG','POSITION_SF','POSITION_PF',\n",
    "                    'POSITION_C','SALARY']\n",
    "\n",
    "model_df = final_df_3.reindex(columns = features_1)\n",
    "\n"
   ]
  },
  {
   "cell_type": "code",
   "execution_count": 11,
   "metadata": {},
   "outputs": [
    {
     "data": {
      "image/png": "[encoded data removed]",
      "text/plain": [
       "<Figure size 432x288 with 2 Axes>"
      ]
     },
     "metadata": {},
     "output_type": "display_data"
    }
   ],
   "source": [
    "#heatmap of correlations\n",
    "sns.set(font_scale=1)\n",
    "\n",
    "upper = np.triu(model_df.corr())\n",
    "sns.heatmap(final_df_3[features_1].corr(), cmap=\"seismic_r\", vmin=-1, vmax=1, mask=upper);"
   ]
  },
  {
   "cell_type": "code",
   "execution_count": 12,
   "metadata": {},
   "outputs": [
    {
     "data": {
      "text/plain": [
       "2PT_M          4.129458\n",
       "3PT_M          2.341601\n",
       "FT_M           4.114094\n",
       "DEF_REB        4.364006\n",
       "OFF_REB        4.545952\n",
       "ASSISTS        5.717972\n",
       "STEALS         2.056723\n",
       "TO             6.114857\n",
       "EXPERIENCE     1.794835\n",
       "BLOCKS         2.382567\n",
       "POSITION_PG    3.228065\n",
       "POSITION_SG    3.021212\n",
       "POSITION_PF    3.501927\n",
       "POSITION_SF    3.311328\n",
       "POSITION_C     4.962456\n",
       "SALARY         2.650558\n",
       "dtype: float64"
      ]
     },
     "execution_count": 12,
     "metadata": {},
     "output_type": "execute_result"
    }
   ],
   "source": [
    "#checking for multicolinearity \n",
    "vif(model_df)"
   ]
  },
  {
   "cell_type": "code",
   "execution_count": 13,
   "metadata": {},
   "outputs": [],
   "source": [
    "#updated features to reduce multicolinearity\n",
    "features_2 = ['FIELD_GOALS','FT_M','DEF_REB', 'ASSISTS',\n",
    "       'STEALS', 'BLOCKS', 'EXPERIENCE','POSITION_PG','POSITION_SG','POSITION_PF','POSITION_SF',\n",
    "           'POSITION_C','TO','SALARY']\n",
    "model_df = final_df_3.reindex(columns = features_2)"
   ]
  },
  {
   "cell_type": "code",
   "execution_count": 14,
   "metadata": {},
   "outputs": [
    {
     "data": {
      "image/png": "[encoded data removed]",
      "text/plain": [
       "<Figure size 432x288 with 2 Axes>"
      ]
     },
     "metadata": {},
     "output_type": "display_data"
    }
   ],
   "source": [
    "#heatmap of updated correlations\n",
    "\n",
    "upper = np.triu(model_df.corr())\n",
    "sns.heatmap(model_df.corr(), cmap=\"seismic_r\", vmin=-1, vmax=1, mask=upper);"
   ]
  },
  {
   "cell_type": "code",
   "execution_count": 15,
   "metadata": {},
   "outputs": [
    {
     "data": {
      "text/plain": [
       "FIELD_GOALS    4.208270\n",
       "FT_M           4.035935\n",
       "DEF_REB        3.015619\n",
       "ASSISTS        5.396179\n",
       "STEALS         1.979286\n",
       "BLOCKS         2.279688\n",
       "EXPERIENCE     1.726001\n",
       "POSITION_PG    3.161817\n",
       "POSITION_SG    2.736033\n",
       "POSITION_PF    3.453925\n",
       "POSITION_SF    3.133911\n",
       "POSITION_C     4.366934\n",
       "TO             6.103960\n",
       "SALARY         2.644442\n",
       "dtype: float64"
      ]
     },
     "execution_count": 15,
     "metadata": {},
     "output_type": "execute_result"
    }
   ],
   "source": [
    "#checking for updated multicolinearity\n",
    "\n",
    "vif(model_df)"
   ]
  },
  {
   "cell_type": "code",
   "execution_count": 16,
   "metadata": {},
   "outputs": [],
   "source": [
    "#throwing back in features to add complexity\n",
    "features_3 = features_1\n",
    "\n",
    "# ['FIELD_GOALS','FT_M', 'ASSISTS','STEALS', 'BLOCKS', 'EXPERIENCE','POSITION_PG','DEF_REB',\n",
    "#               'POSITION_SG','POSITION_PF','POSITION_SF','POSITION_C',\"SALARY\",]\n",
    "model_df = final_df_3.reindex(columns = features_3)"
   ]
  },
  {
   "cell_type": "code",
   "execution_count": 17,
   "metadata": {},
   "outputs": [
    {
     "data": {
      "image/png": "[encoded data removed]",
      "text/plain": [
       "<Figure size 432x288 with 2 Axes>"
      ]
     },
     "metadata": {},
     "output_type": "display_data"
    }
   ],
   "source": [
    "upper = np.triu(model_df.corr())\n",
    "sns.heatmap(model_df.corr(), cmap=\"seismic_r\", vmin=-1, vmax=1, mask=upper);"
   ]
  },
  {
   "cell_type": "code",
   "execution_count": 18,
   "metadata": {},
   "outputs": [
    {
     "data": {
      "text/plain": [
       "2PT_M          4.129458\n",
       "3PT_M          2.341601\n",
       "FT_M           4.114094\n",
       "DEF_REB        4.364006\n",
       "OFF_REB        4.545952\n",
       "ASSISTS        5.717972\n",
       "STEALS         2.056723\n",
       "TO             6.114857\n",
       "EXPERIENCE     1.794835\n",
       "BLOCKS         2.382567\n",
       "POSITION_PG    3.228065\n",
       "POSITION_SG    3.021212\n",
       "POSITION_PF    3.501927\n",
       "POSITION_SF    3.311328\n",
       "POSITION_C     4.962456\n",
       "SALARY         2.650558\n",
       "dtype: float64"
      ]
     },
     "execution_count": 18,
     "metadata": {},
     "output_type": "execute_result"
    }
   ],
   "source": [
    "vif(model_df)"
   ]
  },
  {
   "cell_type": "code",
   "execution_count": 19,
   "metadata": {},
   "outputs": [],
   "source": [
    "#assigning x and y to features and target\n",
    "X = model_df.iloc[:,0:15]\n",
    "\n",
    "# Pick the target\n",
    "y = model_df[\"SALARY\"]\n"
   ]
  },
  {
   "cell_type": "code",
   "execution_count": 20,
   "metadata": {},
   "outputs": [],
   "source": [
    "#train/test split\n",
    "\n",
    "X_train, X_test, y_train, y_test = train_test_split(X, y, test_size=.2, random_state=10) "
   ]
  },
  {
   "cell_type": "code",
   "execution_count": 21,
   "metadata": {},
   "outputs": [],
   "source": [
    "#creating kfold object for cross validation\n",
    "\n",
    "kf = KFold(n_splits=5, shuffle=True, random_state = 13)"
   ]
  },
  {
   "cell_type": "code",
   "execution_count": 22,
   "metadata": {},
   "outputs": [
    {
     "data": {
      "text/plain": [
       "0.6247946038249126"
      ]
     },
     "execution_count": 22,
     "metadata": {},
     "output_type": "execute_result"
    }
   ],
   "source": [
    "#create a linear model\n",
    "\n",
    "lm = LinearRegression()\n",
    "lm.fit(X_train, y_train)\n",
    "lm.score(X_train, y_train)"
   ]
  },
  {
   "cell_type": "code",
   "execution_count": 23,
   "metadata": {},
   "outputs": [
    {
     "data": {
      "text/plain": [
       "0.6053447294659484"
      ]
     },
     "execution_count": 23,
     "metadata": {},
     "output_type": "execute_result"
    }
   ],
   "source": [
    "#average cross val r2 for linear model on train\n",
    "\n",
    "np.mean(cross_val_score(lm, X_train, y_train, # estimator, features, target\n",
    "                cv=kf, # number of folds \n",
    "                scoring='r2')) # scoring metric\n",
    "\n"
   ]
  },
  {
   "cell_type": "code",
   "execution_count": 24,
   "metadata": {},
   "outputs": [],
   "source": [
    "#determine optimal alpha for ridge regression\n",
    "\n",
    "alphalist = 10**(np.linspace(-2,2,200))\n",
    "err_vec_val = np.zeros(len(alphalist))\n",
    "err_vec_train = np.zeros(len(alphalist))\n",
    "\n",
    "for i,curr_alpha in enumerate(alphalist):\n",
    "\n",
    "    # note the use of a new sklearn utility: Pipeline to pack\n",
    "    # multiple modeling steps into one fitting process \n",
    "    steps = [('standardize', StandardScaler()), \n",
    "             ('ridge', Ridge(alpha = curr_alpha))]\n",
    "\n",
    "    pipe = Pipeline(steps)\n",
    "    pipe.fit(X_train.values, y_train)\n",
    "    \n",
    "    val_set_pred = pipe.predict(X_test.values)\n",
    "    err_vec_val[i] = RMSE(y_test, val_set_pred)"
   ]
  },
  {
   "cell_type": "code",
   "execution_count": 25,
   "metadata": {},
   "outputs": [
    {
     "data": {
      "text/plain": [
       "0.01"
      ]
     },
     "execution_count": 25,
     "metadata": {},
     "output_type": "execute_result"
    }
   ],
   "source": [
    "np.min(err_vec_val)\n",
    "opt_alpha = alphalist[np.argmin(err_vec_val)]\n",
    "opt_alpha"
   ]
  },
  {
   "cell_type": "code",
   "execution_count": 26,
   "metadata": {},
   "outputs": [],
   "source": [
    "#standardize x data and transform onto test\n",
    "scaler = StandardScaler()\n",
    "X_train_scaled =scaler.fit_transform(X_train)\n",
    "X_test_scaled= scaler.transform(X_test)\n"
   ]
  },
  {
   "cell_type": "code",
   "execution_count": 27,
   "metadata": {},
   "outputs": [
    {
     "data": {
      "text/plain": [
       "Ridge(alpha=0.01)"
      ]
     },
     "execution_count": 27,
     "metadata": {},
     "output_type": "execute_result"
    }
   ],
   "source": [
    "#create ridge regression with optimal alpha fit to \n",
    "\n",
    "lm_ridge = Ridge(alpha=opt_alpha)\n",
    "lm_ridge.fit(X_train_scaled,y_train)"
   ]
  },
  {
   "cell_type": "code",
   "execution_count": 28,
   "metadata": {},
   "outputs": [
    {
     "data": {
      "text/plain": [
       "0.6053455989329498"
      ]
     },
     "execution_count": 28,
     "metadata": {},
     "output_type": "execute_result"
    }
   ],
   "source": [
    "#average cross val r2 for ridge regression on train (linear avg was .6025553368305263)\n",
    "\n",
    "np.mean(cross_val_score(lm_ridge, X_train, y_train, # estimator, features, target\n",
    "                cv=kf, # number of folds \n",
    "                scoring='r2')) # scoring metric"
   ]
  },
  {
   "cell_type": "code",
   "execution_count": 29,
   "metadata": {},
   "outputs": [
    {
     "name": "stdout",
     "output_type": "stream",
     "text": [
      "0.6056393618636852\n",
      "0.6056402841022513\n"
     ]
    }
   ],
   "source": [
    "#checking scores for linear and ridge on entire dataset (ridge better)\n",
    "\n",
    "kf = KFold(n_splits=5, shuffle=True, random_state = 1000)\n",
    "\n",
    "print(np.mean(cross_val_score(lm, X, y, cv=kf, scoring='r2')))\n",
    "print(np.mean(cross_val_score(lm_ridge, X, y, cv=kf, scoring='r2')))"
   ]
  },
  {
   "cell_type": "code",
   "execution_count": 30,
   "metadata": {},
   "outputs": [
    {
     "name": "stdout",
     "output_type": "stream",
     "text": [
      "0.5862109897056762\n",
      "0.586228925728601\n"
     ]
    }
   ],
   "source": [
    "#checking scores for linear and ridge on test set(ridge better)\n",
    "\n",
    "kf = KFold(n_splits=5, shuffle=True, random_state = 13)\n",
    "\n",
    "print(np.mean(cross_val_score(lm, X_test, y_test, cv=kf, scoring='r2')))\n",
    "print(np.mean(cross_val_score(lm_ridge, X_test, y_test, cv=kf, scoring='r2')))"
   ]
  },
  {
   "cell_type": "code",
   "execution_count": 31,
   "metadata": {},
   "outputs": [
    {
     "data": {
      "text/plain": [
       "<seaborn.axisgrid.JointGrid at 0x7f984bd961f0>"
      ]
     },
     "execution_count": 31,
     "metadata": {},
     "output_type": "execute_result"
    },
    {
     "data": {
      "image/png": "[encoded data removed]",
      "text/plain": [
       "<Figure size 432x432 with 3 Axes>"
      ]
     },
     "metadata": {},
     "output_type": "display_data"
    }
   ],
   "source": [
    "#generate predictions\n",
    "\n",
    "preds_train = lm_ridge.predict(X_train) # generate predictions (on training data) using fit model\n",
    "\n",
    "sns.jointplot(x=preds_train,y=y_train, kind='reg')"
   ]
  },
  {
   "cell_type": "code",
   "execution_count": 32,
   "metadata": {},
   "outputs": [
    {
     "data": {
      "text/plain": [
       "<seaborn.axisgrid.JointGrid at 0x7f984c302b80>"
      ]
     },
     "execution_count": 32,
     "metadata": {},
     "output_type": "execute_result"
    },
    {
     "data": {
      "image/png": "[encoded data removed]",
      "text/plain": [
       "<Figure size 432x432 with 3 Axes>"
      ]
     },
     "metadata": {},
     "output_type": "display_data"
    }
   ],
   "source": [
    "preds_test = lm_ridge.predict(X_test) # generate predictions (on test data) using fit model\n",
    "\n",
    "plot_lm = sns.jointplot(x=preds_test,y=y_test,kind='reg')\n",
    "plot_lm.set_axis_labels('', 'Salary', fontsize=16,color=\"blue\")"
   ]
  },
  {
   "cell_type": "code",
   "execution_count": 33,
   "metadata": {},
   "outputs": [
    {
     "data": {
      "text/plain": [
       "[('2PT_M', 1682065.8106702007),\n",
       " ('3PT_M', 409975.4118864649),\n",
       " ('FT_M', 1280101.1693951613),\n",
       " ('DEF_REB', 1101506.2984288156),\n",
       " ('OFF_REB', -182726.25539543832),\n",
       " ('ASSISTS', 1118692.0203405295),\n",
       " ('STEALS', 6675.603614980096),\n",
       " ('TO', 234978.98993218408),\n",
       " ('EXPERIENCE', 3778636.1192931025),\n",
       " ('BLOCKS', -728815.5105614954),\n",
       " ('POSITION_PG', -492187.1120286777),\n",
       " ('POSITION_SG', 90078.66602341262),\n",
       " ('POSITION_PF', 22433.019402055666),\n",
       " ('POSITION_SF', -148316.4729066419),\n",
       " ('POSITION_C', 477833.76717601717)]"
      ]
     },
     "execution_count": 33,
     "metadata": {},
     "output_type": "execute_result"
    }
   ],
   "source": [
    "list(zip(X_test.columns,lm_ridge.coef_))\n"
   ]
  },
  {
   "cell_type": "code",
   "execution_count": 34,
   "metadata": {},
   "outputs": [],
   "source": [
    "coef_list=list(zip(X.columns,lm_ridge.coef_))\n"
   ]
  },
  {
   "cell_type": "code",
   "execution_count": 35,
   "metadata": {},
   "outputs": [
    {
     "data": {
      "text/plain": [
       "<BarContainer object of 15 artists>"
      ]
     },
     "execution_count": 35,
     "metadata": {},
     "output_type": "execute_result"
    },
    {
     "data": {
      "image/png": "[encoded data removed]",
      "text/plain": [
       "<Figure size 432x288 with 1 Axes>"
      ]
     },
     "metadata": {},
     "output_type": "display_data"
    }
   ],
   "source": [
    "coef_df=pd.DataFrame(coef_list,columns = ['Feature',\"Coefficient\"])\n",
    "coef_df\n",
    "x_barplot = coef_df['Feature']\n",
    "y_barplot = coef_df['Coefficient']\n",
    "\n",
    "#negative coefs are for pos_sf,pos_pg,blocks,off_reb\n",
    "\n",
    "plt.barh(x_barplot,y_barplot)"
   ]
  },
  {
   "cell_type": "code",
   "execution_count": 36,
   "metadata": {},
   "outputs": [
    {
     "data": {
      "text/plain": [
       "{'2PT_M': 1682065.8106702007,\n",
       " '3PT_M': 409975.4118864649,\n",
       " 'FT_M': 1280101.1693951613,\n",
       " 'DEF_REB': 1101506.2984288156,\n",
       " 'OFF_REB': 182726.25539543832,\n",
       " 'ASSISTS': 1118692.0203405295,\n",
       " 'STEALS': 6675.603614980096,\n",
       " 'TO': 234978.98993218408,\n",
       " 'EXPERIENCE': 3778636.1192931025,\n",
       " 'BLOCKS': 728815.5105614954,\n",
       " 'POSITION_PG': 492187.1120286777,\n",
       " 'POSITION_SG': 90078.66602341262,\n",
       " 'POSITION_PF': 22433.019402055666,\n",
       " 'POSITION_SF': 148316.4729066419,\n",
       " 'POSITION_C': 477833.76717601717}"
      ]
     },
     "execution_count": 36,
     "metadata": {},
     "output_type": "execute_result"
    }
   ],
   "source": [
    "coef_dict=dict(zip(X.columns,lm_ridge.coef_))\n",
    "\n",
    "for i,(key,coef) in enumerate(coef_dict.items()):\n",
    "    if coef <0:\n",
    "        coef = -coef\n",
    "        coef_dict[key]=coef\n",
    "coef_dict\n",
    "\n"
   ]
  },
  {
   "cell_type": "code",
   "execution_count": 37,
   "metadata": {},
   "outputs": [],
   "source": [
    "coef_df = pd.DataFrame(list(coef_dict.items()),columns =['Feature','Coefficient'])\n",
    "coef_df=coef_df.sort_values(by=['Coefficient'])\n",
    "                        "
   ]
  },
  {
   "cell_type": "code",
   "execution_count": 38,
   "metadata": {},
   "outputs": [
    {
     "data": {
      "text/plain": [
       "Text(0.5, 1.0, 'Coefficient Magnitude')"
      ]
     },
     "execution_count": 38,
     "metadata": {},
     "output_type": "execute_result"
    },
    {
     "data": {
      "image/png": "[encoded data removed]",
      "text/plain": [
       "<Figure size 432x288 with 1 Axes>"
      ]
     },
     "metadata": {},
     "output_type": "display_data"
    }
   ],
   "source": [
    "x_barplot = coef_df['Feature']\n",
    "y_barplot = coef_df['Coefficient']\n",
    "\n",
    "#negative coefs are for pos_sf,pos_pg,blocks,off_reb\n",
    "\n",
    "plt.barh(x_barplot,y_barplot,color=['blue', 'blue', 'blue', 'orange', 'orange', 'blue', 'blue',\n",
    "                    'blue', 'orange', 'orange', 'blue', 'blue', 'blue', 'blue', 'blue', 'blue'])\n",
    "plt.xlabel('Coefficients',fontsize = 20,color='blue',font = 'serif')\n",
    "plt.ylabel('Features',fontsize = 20,color='blue',font = 'serif')\n",
    "plt.legend(['Positive'],loc=4)\n",
    "plt.title(\"Coefficient Magnitude\",font = 'serif',fontsize = 25,color = 'blue')"
   ]
  },
  {
   "cell_type": "code",
   "execution_count": 39,
   "metadata": {},
   "outputs": [
    {
     "data": {
      "text/plain": [
       "35969711.686699584"
      ]
     },
     "execution_count": 39,
     "metadata": {},
     "output_type": "execute_result"
    }
   ],
   "source": [
    "preds_test = lm_ridge.predict(X_test)\n",
    "\n",
    "RMSE = RMSE(y_test,preds_test)\n",
    "RMSE"
   ]
  },
  {
   "cell_type": "code",
   "execution_count": 40,
   "metadata": {},
   "outputs": [
    {
     "data": {
      "text/plain": [
       "3.3251178081784326e+17"
      ]
     },
     "execution_count": 40,
     "metadata": {},
     "output_type": "execute_result"
    }
   ],
   "source": [
    "SSE=SSE(y_test,preds_test)\n",
    "SSE"
   ]
  },
  {
   "cell_type": "code",
   "execution_count": 41,
   "metadata": {},
   "outputs": [
    {
     "data": {
      "text/plain": [
       "34183201.5116428"
      ]
     },
     "execution_count": 41,
     "metadata": {},
     "output_type": "execute_result"
    }
   ],
   "source": [
    "MAE = MAE(y_test,preds_test)\n",
    "MAE"
   ]
  },
  {
   "cell_type": "code",
   "execution_count": 42,
   "metadata": {},
   "outputs": [
    {
     "data": {
      "text/plain": [
       "9316181.040935673"
      ]
     },
     "execution_count": 42,
     "metadata": {},
     "output_type": "execute_result"
    }
   ],
   "source": [
    "# y_pred = lm_ridge.predict(lm_ridge.intercept_)\n",
    "\n",
    "# plt.scatter(y_pred,y-y_pred,alpha=opt_alpha)\n",
    "# plt.plot(np.linspace(0,600000,1000),np.linspace(0,0,1000))\n",
    "# plt.xlabel('Predicted Value')\n",
    "# plt.ylabel('Residual')\n",
    "lm_ridge.intercept_"
   ]
  },
  {
   "cell_type": "code",
   "execution_count": 43,
   "metadata": {},
   "outputs": [
    {
     "data": {
      "text/html": [
       "<div>\n",
       "<style scoped>\n",
       "    .dataframe tbody tr th:only-of-type {\n",
       "        vertical-align: middle;\n",
       "    }\n",
       "\n",
       "    .dataframe tbody tr th {\n",
       "        vertical-align: top;\n",
       "    }\n",
       "\n",
       "    .dataframe thead th {\n",
       "        text-align: right;\n",
       "    }\n",
       "</style>\n",
       "<table border=\"1\" class=\"dataframe\">\n",
       "  <thead>\n",
       "    <tr style=\"text-align: right;\">\n",
       "      <th></th>\n",
       "      <th>PLAYER</th>\n",
       "      <th>GAMES</th>\n",
       "      <th>MINUTES_PLAYED</th>\n",
       "      <th>FIELD_GOALS</th>\n",
       "      <th>FIELD_GOAL_PCT</th>\n",
       "      <th>3PT_M</th>\n",
       "      <th>3PT_PCT</th>\n",
       "      <th>2PT_M</th>\n",
       "      <th>2PT_PCT</th>\n",
       "      <th>FT_M</th>\n",
       "      <th>...</th>\n",
       "      <th>POINTS</th>\n",
       "      <th>YEAR</th>\n",
       "      <th>TEAM_x</th>\n",
       "      <th>POSITION</th>\n",
       "      <th>EXPERIENCE</th>\n",
       "      <th>SALARY</th>\n",
       "      <th>EXPIRES</th>\n",
       "      <th>CONTRACT_LEN</th>\n",
       "      <th>CONTRACT_TOT</th>\n",
       "      <th>YEAR_SIGNED</th>\n",
       "    </tr>\n",
       "  </thead>\n",
       "  <tbody>\n",
       "    <tr>\n",
       "      <th>904</th>\n",
       "      <td>lebron james</td>\n",
       "      <td>67</td>\n",
       "      <td>34.6</td>\n",
       "      <td>9.6</td>\n",
       "      <td>0.493</td>\n",
       "      <td>2.2</td>\n",
       "      <td>0.348</td>\n",
       "      <td>7.4</td>\n",
       "      <td>0.564</td>\n",
       "      <td>3.9</td>\n",
       "      <td>...</td>\n",
       "      <td>25.3</td>\n",
       "      <td>2020</td>\n",
       "      <td>LAL</td>\n",
       "      <td>PG</td>\n",
       "      <td>16.0</td>\n",
       "      <td>37436858.0</td>\n",
       "      <td>2023.0</td>\n",
       "      <td>2.0</td>\n",
       "      <td>85655532.0</td>\n",
       "      <td>2021.0</td>\n",
       "    </tr>\n",
       "  </tbody>\n",
       "</table>\n",
       "<p>1 rows × 28 columns</p>\n",
       "</div>"
      ],
      "text/plain": [
       "           PLAYER  GAMES  MINUTES_PLAYED  FIELD_GOALS  FIELD_GOAL_PCT  3PT_M  \\\n",
       "904  lebron james     67            34.6          9.6           0.493    2.2   \n",
       "\n",
       "     3PT_PCT  2PT_M  2PT_PCT  FT_M  ...  POINTS  YEAR  TEAM_x  POSITION  \\\n",
       "904    0.348    7.4    0.564   3.9  ...    25.3  2020     LAL        PG   \n",
       "\n",
       "     EXPERIENCE      SALARY  EXPIRES  CONTRACT_LEN  CONTRACT_TOT  YEAR_SIGNED  \n",
       "904        16.0  37436858.0   2023.0           2.0    85655532.0       2021.0  \n",
       "\n",
       "[1 rows x 28 columns]"
      ]
     },
     "execution_count": 43,
     "metadata": {},
     "output_type": "execute_result"
    }
   ],
   "source": [
    "# # Lebron James example \n",
    "lebron_2020 = final_df[final_df['PLAYER']==\"lebron james\"].iloc[5:6]\n",
    "lebron_2020"
   ]
  },
  {
   "cell_type": "code",
   "execution_count": 44,
   "metadata": {},
   "outputs": [
    {
     "data": {
      "text/html": [
       "<div>\n",
       "<style scoped>\n",
       "    .dataframe tbody tr th:only-of-type {\n",
       "        vertical-align: middle;\n",
       "    }\n",
       "\n",
       "    .dataframe tbody tr th {\n",
       "        vertical-align: top;\n",
       "    }\n",
       "\n",
       "    .dataframe thead th {\n",
       "        text-align: right;\n",
       "    }\n",
       "</style>\n",
       "<table border=\"1\" class=\"dataframe\">\n",
       "  <thead>\n",
       "    <tr style=\"text-align: right;\">\n",
       "      <th></th>\n",
       "      <th>SALARY</th>\n",
       "    </tr>\n",
       "  </thead>\n",
       "  <tbody>\n",
       "    <tr>\n",
       "      <th>904</th>\n",
       "      <td>37436858.0</td>\n",
       "    </tr>\n",
       "  </tbody>\n",
       "</table>\n",
       "</div>"
      ],
      "text/plain": [
       "         SALARY\n",
       "904  37436858.0"
      ]
     },
     "execution_count": 44,
     "metadata": {},
     "output_type": "execute_result"
    }
   ],
   "source": [
    "lebron_2020['POSITION_PG']=1\n",
    "lebron_2020['POSITION_SG']=0\n",
    "lebron_2020['POSITION_SF']=0\n",
    "lebron_2020['POSITION_PF']=0\n",
    "lebron_2020['POSITION_C']=0\n",
    "features_example = ['2PT_M','3PT_M','FT_M','DEF_REB','OFF_REB','ASSISTS',\n",
    "       'STEALS','TO','EXPERIENCE','BLOCKS','POSITION_PG','POSITION_SG','POSITION_SF','POSITION_PF',\n",
    "                    'POSITION_C','SALARY']\n",
    "\n",
    "y_lebron = lebron_2020[features_example].iloc[0:,-1:]\n",
    "x_lebron = lebron_2020[features_example].iloc[0:,0:15]\n",
    "y_lebron"
   ]
  },
  {
   "cell_type": "code",
   "execution_count": 48,
   "metadata": {},
   "outputs": [
    {
     "data": {
      "text/plain": [
       "107012146"
      ]
     },
     "execution_count": 48,
     "metadata": {},
     "output_type": "execute_result"
    }
   ],
   "source": [
    "# lebron_fit = lm_ridge.fit(x_lebron,y_lebron)\n",
    "\n",
    "lebron_test =lm_ridge.predict(x_lebron)\n",
    "int(lebron_test)\n",
    " # generate predictions (on test data) using fit model\n",
    "\n",
    "# 42,827,766 is actual "
   ]
  },
  {
   "cell_type": "code",
   "execution_count": 52,
   "metadata": {},
   "outputs": [
    {
     "data": {
      "text/html": [
       "<div>\n",
       "<style scoped>\n",
       "    .dataframe tbody tr th:only-of-type {\n",
       "        vertical-align: middle;\n",
       "    }\n",
       "\n",
       "    .dataframe tbody tr th {\n",
       "        vertical-align: top;\n",
       "    }\n",
       "\n",
       "    .dataframe thead th {\n",
       "        text-align: right;\n",
       "    }\n",
       "</style>\n",
       "<table border=\"1\" class=\"dataframe\">\n",
       "  <thead>\n",
       "    <tr style=\"text-align: right;\">\n",
       "      <th></th>\n",
       "      <th>PLAYER</th>\n",
       "      <th>GAMES</th>\n",
       "      <th>MINUTES_PLAYED</th>\n",
       "      <th>FIELD_GOALS</th>\n",
       "      <th>FIELD_GOAL_PCT</th>\n",
       "      <th>3PT_M</th>\n",
       "      <th>3PT_PCT</th>\n",
       "      <th>2PT_M</th>\n",
       "      <th>2PT_PCT</th>\n",
       "      <th>FT_M</th>\n",
       "      <th>...</th>\n",
       "      <th>POINTS</th>\n",
       "      <th>YEAR</th>\n",
       "      <th>TEAM_x</th>\n",
       "      <th>POSITION</th>\n",
       "      <th>EXPERIENCE</th>\n",
       "      <th>SALARY</th>\n",
       "      <th>EXPIRES</th>\n",
       "      <th>CONTRACT_LEN</th>\n",
       "      <th>CONTRACT_TOT</th>\n",
       "      <th>YEAR_SIGNED</th>\n",
       "    </tr>\n",
       "  </thead>\n",
       "  <tbody>\n",
       "    <tr>\n",
       "      <th>208</th>\n",
       "      <td>jayson tatum</td>\n",
       "      <td>66</td>\n",
       "      <td>34.3</td>\n",
       "      <td>8.4</td>\n",
       "      <td>0.45</td>\n",
       "      <td>2.9</td>\n",
       "      <td>0.403</td>\n",
       "      <td>5.5</td>\n",
       "      <td>0.48</td>\n",
       "      <td>3.8</td>\n",
       "      <td>...</td>\n",
       "      <td>23.4</td>\n",
       "      <td>2020</td>\n",
       "      <td>BOS</td>\n",
       "      <td>PF</td>\n",
       "      <td>2.0</td>\n",
       "      <td>7830000.0</td>\n",
       "      <td>2026.0</td>\n",
       "      <td>5.0</td>\n",
       "      <td>163000300.0</td>\n",
       "      <td>2021.0</td>\n",
       "    </tr>\n",
       "  </tbody>\n",
       "</table>\n",
       "<p>1 rows × 28 columns</p>\n",
       "</div>"
      ],
      "text/plain": [
       "           PLAYER  GAMES  MINUTES_PLAYED  FIELD_GOALS  FIELD_GOAL_PCT  3PT_M  \\\n",
       "208  jayson tatum     66            34.3          8.4            0.45    2.9   \n",
       "\n",
       "     3PT_PCT  2PT_M  2PT_PCT  FT_M  ...  POINTS  YEAR  TEAM_x  POSITION  \\\n",
       "208    0.403    5.5     0.48   3.8  ...    23.4  2020     BOS        PF   \n",
       "\n",
       "     EXPERIENCE     SALARY  EXPIRES  CONTRACT_LEN  CONTRACT_TOT  YEAR_SIGNED  \n",
       "208         2.0  7830000.0   2026.0           5.0   163000300.0       2021.0  \n",
       "\n",
       "[1 rows x 28 columns]"
      ]
     },
     "execution_count": 52,
     "metadata": {},
     "output_type": "execute_result"
    }
   ],
   "source": [
    "tatum_2020 = final_df[final_df['PLAYER']==\"jayson tatum\"].iloc[0:1]\n",
    "\n",
    "\n",
    "tatum_2020"
   ]
  },
  {
   "cell_type": "code",
   "execution_count": 53,
   "metadata": {},
   "outputs": [
    {
     "data": {
      "text/html": [
       "<div>\n",
       "<style scoped>\n",
       "    .dataframe tbody tr th:only-of-type {\n",
       "        vertical-align: middle;\n",
       "    }\n",
       "\n",
       "    .dataframe tbody tr th {\n",
       "        vertical-align: top;\n",
       "    }\n",
       "\n",
       "    .dataframe thead th {\n",
       "        text-align: right;\n",
       "    }\n",
       "</style>\n",
       "<table border=\"1\" class=\"dataframe\">\n",
       "  <thead>\n",
       "    <tr style=\"text-align: right;\">\n",
       "      <th></th>\n",
       "      <th>SALARY</th>\n",
       "    </tr>\n",
       "  </thead>\n",
       "  <tbody>\n",
       "    <tr>\n",
       "      <th>208</th>\n",
       "      <td>7830000.0</td>\n",
       "    </tr>\n",
       "  </tbody>\n",
       "</table>\n",
       "</div>"
      ],
      "text/plain": [
       "        SALARY\n",
       "208  7830000.0"
      ]
     },
     "execution_count": 53,
     "metadata": {},
     "output_type": "execute_result"
    }
   ],
   "source": [
    "tatum_2020['POSITION_PG']=0\n",
    "tatum_2020['POSITION_SG']=0\n",
    "tatum_2020['POSITION_SF']=0\n",
    "tatum_2020['POSITION_PF']=1\n",
    "tatum_2020['POSITION_C']=0\n",
    "features_example = ['2PT_M','3PT_M','FT_M','DEF_REB','OFF_REB','ASSISTS',\n",
    "       'STEALS','TO','EXPERIENCE','BLOCKS','POSITION_PG','POSITION_SG','POSITION_SF','POSITION_PF',\n",
    "                    'POSITION_C','SALARY']\n",
    "\n",
    "y_tatum = tatum_2020[features_example].iloc[0:,-1:]\n",
    "x_tatum = tatum_2020[features_example].iloc[0:,0:15]\n",
    "y_tatum"
   ]
  },
  {
   "cell_type": "code",
   "execution_count": 61,
   "metadata": {},
   "outputs": [
    {
     "name": "stdout",
     "output_type": "stream",
     "text": [
      "Tatum\"s current contract pays him 28,100,00 a year our model predicted 41706063\n"
     ]
    }
   ],
   "source": [
    "#current salary on ESPN site is 28.1M\n",
    "\n",
    "print('Tatum\"s current contract pays him 28,100,00 a year our model predicted'+ \n",
    "      \" \"+ str(int(lm_ridge.predict(x_tatum))))"
   ]
  },
  {
   "cell_type": "code",
   "execution_count": null,
   "metadata": {},
   "outputs": [],
   "source": []
  },
  {
   "cell_type": "code",
   "execution_count": null,
   "metadata": {},
   "outputs": [],
   "source": []
  },
  {
   "cell_type": "code",
   "execution_count": null,
   "metadata": {},
   "outputs": [],
   "source": []
  }
 ],
 "metadata": {
  "kernelspec": {
   "display_name": "Python 3",
   "language": "python",
   "name": "python3"
  },
  "language_info": {
   "codemirror_mode": {
    "name": "ipython",
    "version": 3
   },
   "file_extension": ".py",
   "mimetype": "text/x-python",
   "name": "python",
   "nbconvert_exporter": "python",
   "pygments_lexer": "ipython3",
   "version": "3.8.5"
  }
 },
 "nbformat": 4,
 "nbformat_minor": 4
}
